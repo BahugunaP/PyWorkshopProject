{
 "cells": [
  {
   "cell_type": "markdown",
   "metadata": {},
   "source": [
    "## Project- Zomato Restaurants Data Analysis \n",
    "Zomato  want to know as to about its outlets across all regions. \n",
    "There are several questions we need to answer looking at the the statistics been provided. \n",
    "This analysis is importnat to  understand which are factors led them to win the market in food industry.\n",
    "\n",
    "## Why you will learn in this project?\n",
    "Python as a solution. You will learn how the cocepts of Python you learned so far has megical application in real life problem, you will be applying the following concepts:\n",
    "\n",
    "- data wrangling\n",
    "- making sense from data\n",
    "- python complex constructs(list, dictionary) with real complex dataset \n",
    "- File operations\n"
   ]
  },
  {
   "cell_type": "markdown",
   "metadata": {},
   "source": [
    "### Task 1\n",
    "\n",
    "**Read the data of the format type .json type.**\n",
    "\n",
    "#### Instructions:\n",
    "\n",
    "* The path for file should be stored in a variable `filepath`\n",
    "* Write a function `\"read_file()\"` that :\n",
    "    \n",
    "     * Takes `'path'` as a parameter.\n",
    "\n",
    "     * Opens the file associated with the `'path'` in the read-only mode `('r')` and store it in a variable  `file`.\n",
    "\n",
    "     * Reads the content of the file and stores it in a variable called `'zomato_data'`\n",
    "\n",
    "     * Close the file\n",
    "\n",
    "     * Returns `'zomato_data'` \n",
    "\n",
    "\n",
    "Parameters :\n",
    "\n",
    "| parameter | dtype  | Argument Type | default value | description                   |\n",
    "|-----------|--------|---------------|---------------|-------------------------------|\n",
    "| path      | string | compulsory    |               | path of the file |\n",
    "\n",
    "Returns:\n",
    "\n",
    "| returns  | data type        | description                 |\n",
    "|----------|------------------|-----------------------------\n",
    "|\n",
    "| zomato_data    | ?           |        list of all Restaurants data |\n",
    "\n",
    "\n",
    "\n",
    "* function `\"read_file()\"` need to called  with `'filepath'` as input parameter and store the result in `'zomatodata'` variable"
   ]
  },
  {
   "cell_type": "code",
   "execution_count": null,
   "metadata": {},
   "outputs": [],
   "source": []
  },
  {
   "cell_type": "markdown",
   "metadata": {},
   "source": [
    "### Task 2\n",
    "\n",
    "**High level management need to figure out, total no. of restaurants of Zomato**\n"
   ]
  },
  {
   "cell_type": "code",
   "execution_count": null,
   "metadata": {},
   "outputs": [],
   "source": []
  },
  {
   "cell_type": "markdown",
   "metadata": {},
   "source": [
    "### Task 3\n",
    "\n",
    "**As the year end is apporoaching and IPL is planned in Asian region so list down all Asian cuisine with their address for a new marketing campaign**"
   ]
  },
  {
   "cell_type": "code",
   "execution_count": null,
   "metadata": {},
   "outputs": [],
   "source": []
  },
  {
   "cell_type": "markdown",
   "metadata": {},
   "source": [
    "### Task 4\n",
    "\n",
    "**Zomato wants to focus more on greater costomer experience for resturants with heighest rating. List down those restaurants**"
   ]
  },
  {
   "cell_type": "code",
   "execution_count": null,
   "metadata": {},
   "outputs": [],
   "source": []
  },
  {
   "cell_type": "markdown",
   "metadata": {},
   "source": [
    "### Task 5\n",
    "\n",
    "**For a new website Zomato wants all the customer reviews to be listed with length of comments less than 500 letters?**\n"
   ]
  },
  {
   "cell_type": "code",
   "execution_count": null,
   "metadata": {},
   "outputs": [],
   "source": []
  },
  {
   "cell_type": "markdown",
   "metadata": {},
   "source": [
    "### Task 6\n",
    "\n",
    "**Home work for you to finish the project**\n"
   ]
  },
  {
   "cell_type": "code",
   "execution_count": null,
   "metadata": {},
   "outputs": [],
   "source": []
  }
 ],
 "metadata": {
  "kernelspec": {
   "display_name": "Python 3",
   "language": "python",
   "name": "python3"
  },
  "language_info": {
   "codemirror_mode": {
    "name": "ipython",
    "version": 3
   },
   "file_extension": ".py",
   "mimetype": "text/x-python",
   "name": "python",
   "nbconvert_exporter": "python",
   "pygments_lexer": "ipython3",
   "version": "3.8.3"
  }
 },
 "nbformat": 4,
 "nbformat_minor": 4
}
